{
 "cells": [
  {
   "cell_type": "markdown",
   "metadata": {},
   "source": [
    "# Data Visualization Project\n",
    "## Podcast Dataset\n",
    "### By Alhanoof Alnajashi\n",
    "Podcast dataset is chosen since its very trending these days and people love to know more about them and it can't be better than data in visual! "
   ]
  },
  {
   "cell_type": "markdown",
   "metadata": {},
   "source": [
    "Srource of the data <a href='https://www.kaggle.com/listennotes/all-podcast-episodes-published-in-december-2017?select=podcasts.csv'> Here </a> This dataset includes the metadata of (almost) all podcast episodes that were published in December 2017.\n",
    "\n",
    "#### Information about the data set: <br> \n",
    "it has to CSV file podcast.csv and episodes.csv <br>\n",
    "#### in podcast.csv there are 9 attributes <br>\n",
    "uuid : is the podcast id in the <a href = 'https://www.listennotes.com'>ListenNotes.com</a>.<br>\n",
    "title: Podcast title.<br>\n",
    "image: The image of this podcast.<br>\n",
    "description: Podcast description, in HTML format.<br>\n",
    "language: Language of this podcast.<br>\n",
    "categories: Genres of this podcast.<br>\n",
    "website: Website of this podcast.<br>\n",
    "author: The publisher of this podcast.<br>\n",
    "itunes_id: iTunes id of this podcast.<br>\n",
    "#### in episodes.csv there are 7 attributes <br>\n",
    "title: Episode title. <br>\n",
    "audio: Audio url. <br>\n",
    "audio_length: Audio length in seconds. <br>\n",
    "description: Episode description. <br>\n",
    "pub_date: Published date of this podcast. <br>\n",
    "uuid: is the episode id in the <a href = 'https://www.listennotes.com'>ListenNotes.com</a>. <br>\n",
    "podcast_uuid: uuid of the podcast that contains this episode. <br>"
   ]
  },
  {
   "cell_type": "code",
   "execution_count": 1,
   "metadata": {},
   "outputs": [],
   "source": [
    "import pandas as pd\n",
    "import numpy as np\n",
    "import seaborn as sb\n",
    "import matplotlib.pyplot as plt\n",
    "%matplotlib inline"
   ]
  },
  {
   "cell_type": "code",
   "execution_count": 2,
   "metadata": {},
   "outputs": [
    {
     "name": "stdout",
     "output_type": "stream",
     "text": [
      "<class 'pandas.core.frame.DataFrame'>\n",
      "RangeIndex: 121175 entries, 0 to 121174\n",
      "Data columns (total 9 columns):\n",
      " #   Column       Non-Null Count   Dtype \n",
      "---  ------       --------------   ----- \n",
      " 0   uuid         121175 non-null  object\n",
      " 1   title        121173 non-null  object\n",
      " 2   image        121175 non-null  object\n",
      " 3   description  119832 non-null  object\n",
      " 4   language     121175 non-null  object\n",
      " 5   categories   121175 non-null  object\n",
      " 6   website      120005 non-null  object\n",
      " 7   author       118678 non-null  object\n",
      " 8   itunes_id    121175 non-null  int64 \n",
      "dtypes: int64(1), object(8)\n",
      "memory usage: 8.3+ MB\n"
     ]
    }
   ],
   "source": [
    "podcasts = pd.read_csv('podcasts.csv')\n",
    "podcasts.info()"
   ]
  },
  {
   "cell_type": "code",
   "execution_count": 3,
   "metadata": {},
   "outputs": [
    {
     "data": {
      "text/html": [
       "<div>\n",
       "<style scoped>\n",
       "    .dataframe tbody tr th:only-of-type {\n",
       "        vertical-align: middle;\n",
       "    }\n",
       "\n",
       "    .dataframe tbody tr th {\n",
       "        vertical-align: top;\n",
       "    }\n",
       "\n",
       "    .dataframe thead th {\n",
       "        text-align: right;\n",
       "    }\n",
       "</style>\n",
       "<table border=\"1\" class=\"dataframe\">\n",
       "  <thead>\n",
       "    <tr style=\"text-align: right;\">\n",
       "      <th></th>\n",
       "      <th>uuid</th>\n",
       "      <th>title</th>\n",
       "      <th>image</th>\n",
       "      <th>description</th>\n",
       "      <th>language</th>\n",
       "      <th>categories</th>\n",
       "      <th>website</th>\n",
       "      <th>author</th>\n",
       "      <th>itunes_id</th>\n",
       "    </tr>\n",
       "  </thead>\n",
       "  <tbody>\n",
       "    <tr>\n",
       "      <th>39164</th>\n",
       "      <td>ccfbab0c15d244488028c365c14723b0</td>\n",
       "      <td>HellaBlackHellaSeattle</td>\n",
       "      <td>http://is5.mzstatic.com/image/thumb/Music71/v4...</td>\n",
       "      <td>A podcast creating community for people of col...</td>\n",
       "      <td>English</td>\n",
       "      <td>Society &amp; Culture</td>\n",
       "      <td>http://soundcloud.com/hellablackhellaseattle</td>\n",
       "      <td>HellaBlackHellaSeattle</td>\n",
       "      <td>1109523675</td>\n",
       "    </tr>\n",
       "    <tr>\n",
       "      <th>61511</th>\n",
       "      <td>6caa343dfd4342ebbf15524a66c25ba1</td>\n",
       "      <td>Grace Hill Church</td>\n",
       "      <td>http://is1.mzstatic.com/image/thumb/Music62/v4...</td>\n",
       "      <td>Enjoy expository preaching and the proclamatio...</td>\n",
       "      <td>English</td>\n",
       "      <td>Religion &amp; Spirituality | Christianity</td>\n",
       "      <td>http://gracehill.church</td>\n",
       "      <td>Grace Hill Church</td>\n",
       "      <td>959455569</td>\n",
       "    </tr>\n",
       "    <tr>\n",
       "      <th>66361</th>\n",
       "      <td>90eb462d002f43b8ac8107a88198b893</td>\n",
       "      <td>パンローリング presents キラメキの発想～投資戦略ラジオ～</td>\n",
       "      <td>http://is4.mzstatic.com/image/thumb/Music71/v4...</td>\n",
       "      <td>トレーダーの支持を集める出版社パンローリングが、ラジオNIKKEIと共に送るホットな投資情報...</td>\n",
       "      <td>Japanese</td>\n",
       "      <td>Business | Investing</td>\n",
       "      <td>http://market.radionikkei.jp/kirameki/</td>\n",
       "      <td>NIKKEI RADIO BROADCASTING CORPORATION</td>\n",
       "      <td>955754180</td>\n",
       "    </tr>\n",
       "    <tr>\n",
       "      <th>75724</th>\n",
       "      <td>a1336745ce2040169f5c75f16a1e8536</td>\n",
       "      <td>2 Guys 1 Canuck</td>\n",
       "      <td>http://is1.mzstatic.com/image/thumb/Music62/v4...</td>\n",
       "      <td>Comedy and vulgarity a GO-GO\\nThe random, hila...</td>\n",
       "      <td>English</td>\n",
       "      <td>Comedy</td>\n",
       "      <td>http://twoguysonecanuck.podbean.com</td>\n",
       "      <td>Shedless Productions</td>\n",
       "      <td>1109159990</td>\n",
       "    </tr>\n",
       "    <tr>\n",
       "      <th>72320</th>\n",
       "      <td>b437088507a04feb9079b402976c2bdc</td>\n",
       "      <td>The JTrain Podcast</td>\n",
       "      <td>http://is2.mzstatic.com/image/thumb/Music122/v...</td>\n",
       "      <td>The JTrain Podcast is hosted by comic Jared Fr...</td>\n",
       "      <td>English</td>\n",
       "      <td>Comedy</td>\n",
       "      <td>http://soundcloud.com/tfm-podcast</td>\n",
       "      <td>Jared Freid</td>\n",
       "      <td>672249013</td>\n",
       "    </tr>\n",
       "  </tbody>\n",
       "</table>\n",
       "</div>"
      ],
      "text/plain": [
       "                                   uuid                              title  \\\n",
       "39164  ccfbab0c15d244488028c365c14723b0             HellaBlackHellaSeattle   \n",
       "61511  6caa343dfd4342ebbf15524a66c25ba1                  Grace Hill Church   \n",
       "66361  90eb462d002f43b8ac8107a88198b893  パンローリング presents キラメキの発想～投資戦略ラジオ～   \n",
       "75724  a1336745ce2040169f5c75f16a1e8536                    2 Guys 1 Canuck   \n",
       "72320  b437088507a04feb9079b402976c2bdc                 The JTrain Podcast   \n",
       "\n",
       "                                                   image  \\\n",
       "39164  http://is5.mzstatic.com/image/thumb/Music71/v4...   \n",
       "61511  http://is1.mzstatic.com/image/thumb/Music62/v4...   \n",
       "66361  http://is4.mzstatic.com/image/thumb/Music71/v4...   \n",
       "75724  http://is1.mzstatic.com/image/thumb/Music62/v4...   \n",
       "72320  http://is2.mzstatic.com/image/thumb/Music122/v...   \n",
       "\n",
       "                                             description  language  \\\n",
       "39164  A podcast creating community for people of col...   English   \n",
       "61511  Enjoy expository preaching and the proclamatio...   English   \n",
       "66361  トレーダーの支持を集める出版社パンローリングが、ラジオNIKKEIと共に送るホットな投資情報...  Japanese   \n",
       "75724  Comedy and vulgarity a GO-GO\\nThe random, hila...   English   \n",
       "72320  The JTrain Podcast is hosted by comic Jared Fr...   English   \n",
       "\n",
       "                                   categories  \\\n",
       "39164                       Society & Culture   \n",
       "61511  Religion & Spirituality | Christianity   \n",
       "66361                    Business | Investing   \n",
       "75724                                  Comedy   \n",
       "72320                                  Comedy   \n",
       "\n",
       "                                            website  \\\n",
       "39164  http://soundcloud.com/hellablackhellaseattle   \n",
       "61511                       http://gracehill.church   \n",
       "66361        http://market.radionikkei.jp/kirameki/   \n",
       "75724           http://twoguysonecanuck.podbean.com   \n",
       "72320             http://soundcloud.com/tfm-podcast   \n",
       "\n",
       "                                      author   itunes_id  \n",
       "39164                 HellaBlackHellaSeattle  1109523675  \n",
       "61511                      Grace Hill Church   959455569  \n",
       "66361  NIKKEI RADIO BROADCASTING CORPORATION   955754180  \n",
       "75724                   Shedless Productions  1109159990  \n",
       "72320                            Jared Freid   672249013  "
      ]
     },
     "execution_count": 3,
     "metadata": {},
     "output_type": "execute_result"
    }
   ],
   "source": [
    "podcasts.sample(5)"
   ]
  },
  {
   "cell_type": "code",
   "execution_count": 4,
   "metadata": {},
   "outputs": [
    {
     "name": "stdout",
     "output_type": "stream",
     "text": [
      "<class 'pandas.core.frame.DataFrame'>\n",
      "RangeIndex: 881046 entries, 0 to 881045\n",
      "Data columns (total 7 columns):\n",
      " #   Column        Non-Null Count   Dtype \n",
      "---  ------        --------------   ----- \n",
      " 0   title         880842 non-null  object\n",
      " 1   audio         869498 non-null  object\n",
      " 2   audio_length  881046 non-null  int64 \n",
      " 3   description   792720 non-null  object\n",
      " 4   pub_date      881046 non-null  object\n",
      " 5   uuid          881046 non-null  object\n",
      " 6   podcast_uuid  881046 non-null  object\n",
      "dtypes: int64(1), object(6)\n",
      "memory usage: 47.1+ MB\n"
     ]
    }
   ],
   "source": [
    "episodes = pd.read_csv('episodes.csv')\n",
    "episodes.info()"
   ]
  },
  {
   "cell_type": "code",
   "execution_count": 5,
   "metadata": {},
   "outputs": [
    {
     "data": {
      "text/plain": [
       "Radio France               1155\n",
       "Audioboom                   917\n",
       "BBC                         295\n",
       "Radio.com                   230\n",
       "audioBoom                   227\n",
       "                           ... \n",
       "AL.com                        1\n",
       "Robert Nordberg               1\n",
       "Liliana Velásquez             1\n",
       "Don Cousins                   1\n",
       "Armchair Ultras Podcast       1\n",
       "Name: author, Length: 94319, dtype: int64"
      ]
     },
     "execution_count": 5,
     "metadata": {},
     "output_type": "execute_result"
    }
   ],
   "source": [
    "podcasts.author.value_counts()"
   ]
  },
  {
   "cell_type": "markdown",
   "metadata": {},
   "source": [
    "### Data Wrangling"
   ]
  },
  {
   "cell_type": "markdown",
   "metadata": {},
   "source": [
    "#### It better to work with one dataset, so the two datasets can be Merge via podcast_uuid from episodes data frame with uuid from padcast dataframe."
   ]
  },
  {
   "cell_type": "code",
   "execution_count": 6,
   "metadata": {},
   "outputs": [],
   "source": [
    "podcasts_clean = podcasts.copy()\n",
    "episodes_clean = episodes.copy()"
   ]
  },
  {
   "cell_type": "code",
   "execution_count": 7,
   "metadata": {},
   "outputs": [],
   "source": [
    "#Rename the variables\n",
    "podcasts_clean = podcasts_clean.rename(columns={'uuid' :'id'})\n",
    "episodes_clean = episodes_clean.rename(columns={'podcast_uuid' :'id'})"
   ]
  },
  {
   "cell_type": "code",
   "execution_count": 8,
   "metadata": {},
   "outputs": [
    {
     "name": "stdout",
     "output_type": "stream",
     "text": [
      "<class 'pandas.core.frame.DataFrame'>\n",
      "RangeIndex: 121175 entries, 0 to 121174\n",
      "Data columns (total 9 columns):\n",
      " #   Column       Non-Null Count   Dtype \n",
      "---  ------       --------------   ----- \n",
      " 0   id           121175 non-null  object\n",
      " 1   title        121173 non-null  object\n",
      " 2   image        121175 non-null  object\n",
      " 3   description  119832 non-null  object\n",
      " 4   language     121175 non-null  object\n",
      " 5   categories   121175 non-null  object\n",
      " 6   website      120005 non-null  object\n",
      " 7   author       118678 non-null  object\n",
      " 8   itunes_id    121175 non-null  int64 \n",
      "dtypes: int64(1), object(8)\n",
      "memory usage: 8.3+ MB\n"
     ]
    }
   ],
   "source": [
    "podcasts_clean.info()"
   ]
  },
  {
   "cell_type": "code",
   "execution_count": 9,
   "metadata": {},
   "outputs": [
    {
     "name": "stdout",
     "output_type": "stream",
     "text": [
      "<class 'pandas.core.frame.DataFrame'>\n",
      "RangeIndex: 881046 entries, 0 to 881045\n",
      "Data columns (total 7 columns):\n",
      " #   Column        Non-Null Count   Dtype \n",
      "---  ------        --------------   ----- \n",
      " 0   title         880842 non-null  object\n",
      " 1   audio         869498 non-null  object\n",
      " 2   audio_length  881046 non-null  int64 \n",
      " 3   description   792720 non-null  object\n",
      " 4   pub_date      881046 non-null  object\n",
      " 5   uuid          881046 non-null  object\n",
      " 6   id            881046 non-null  object\n",
      "dtypes: int64(1), object(6)\n",
      "memory usage: 47.1+ MB\n"
     ]
    }
   ],
   "source": [
    "episodes_clean.info()"
   ]
  },
  {
   "cell_type": "code",
   "execution_count": 10,
   "metadata": {},
   "outputs": [],
   "source": [
    "Podcast = pd.merge(podcasts_clean, episodes_clean, \n",
    "                   on=['id'], how='left')"
   ]
  },
  {
   "cell_type": "code",
   "execution_count": 11,
   "metadata": {},
   "outputs": [
    {
     "name": "stdout",
     "output_type": "stream",
     "text": [
      "<class 'pandas.core.frame.DataFrame'>\n",
      "Int64Index: 873820 entries, 0 to 873819\n",
      "Data columns (total 15 columns):\n",
      " #   Column         Non-Null Count   Dtype \n",
      "---  ------         --------------   ----- \n",
      " 0   id             873820 non-null  object\n",
      " 1   title_x        873814 non-null  object\n",
      " 2   image          873820 non-null  object\n",
      " 3   description_x  862268 non-null  object\n",
      " 4   language       873820 non-null  object\n",
      " 5   categories     873820 non-null  object\n",
      " 6   website        862930 non-null  object\n",
      " 7   author         856612 non-null  object\n",
      " 8   itunes_id      873820 non-null  int64 \n",
      " 9   title_y        873618 non-null  object\n",
      " 10  audio          863045 non-null  object\n",
      " 11  audio_length   873820 non-null  int64 \n",
      " 12  description_y  787292 non-null  object\n",
      " 13  pub_date       873820 non-null  object\n",
      " 14  uuid           873820 non-null  object\n",
      "dtypes: int64(2), object(13)\n",
      "memory usage: 106.7+ MB\n"
     ]
    }
   ],
   "source": [
    "Podcast.info()"
   ]
  },
  {
   "cell_type": "code",
   "execution_count": 12,
   "metadata": {},
   "outputs": [
    {
     "data": {
      "text/html": [
       "<div>\n",
       "<style scoped>\n",
       "    .dataframe tbody tr th:only-of-type {\n",
       "        vertical-align: middle;\n",
       "    }\n",
       "\n",
       "    .dataframe tbody tr th {\n",
       "        vertical-align: top;\n",
       "    }\n",
       "\n",
       "    .dataframe thead th {\n",
       "        text-align: right;\n",
       "    }\n",
       "</style>\n",
       "<table border=\"1\" class=\"dataframe\">\n",
       "  <thead>\n",
       "    <tr style=\"text-align: right;\">\n",
       "      <th></th>\n",
       "      <th>id</th>\n",
       "      <th>title_x</th>\n",
       "      <th>image</th>\n",
       "      <th>description_x</th>\n",
       "      <th>language</th>\n",
       "      <th>categories</th>\n",
       "      <th>website</th>\n",
       "      <th>author</th>\n",
       "      <th>itunes_id</th>\n",
       "      <th>title_y</th>\n",
       "      <th>audio</th>\n",
       "      <th>audio_length</th>\n",
       "      <th>description_y</th>\n",
       "      <th>pub_date</th>\n",
       "      <th>uuid</th>\n",
       "    </tr>\n",
       "  </thead>\n",
       "  <tbody>\n",
       "    <tr>\n",
       "      <th>197880</th>\n",
       "      <td>76b5a3d821904f3a81442498ef399f52</td>\n",
       "      <td>Le journal de France Bleu Limousin</td>\n",
       "      <td>http://is3.mzstatic.com/image/thumb/Music62/v4...</td>\n",
       "      <td>Toute l'actualité du Limousin, et vue du Limousin</td>\n",
       "      <td>French</td>\n",
       "      <td>News &amp; Politics</td>\n",
       "      <td>http://www.radiofrance.fr/</td>\n",
       "      <td>Radio France</td>\n",
       "      <td>1041703862</td>\n",
       "      <td>Les infos de 08h00</td>\n",
       "      <td>http://rf.proxycast.org/1374488813056827393/15...</td>\n",
       "      <td>482</td>\n",
       "      <td>durée : 00:08:02 - Le journal de France Bleu L...</td>\n",
       "      <td>2017-12-04 07:00:00+00</td>\n",
       "      <td>27233505e5cd433c949b9169ff395605</td>\n",
       "    </tr>\n",
       "  </tbody>\n",
       "</table>\n",
       "</div>"
      ],
      "text/plain": [
       "                                      id                             title_x  \\\n",
       "197880  76b5a3d821904f3a81442498ef399f52  Le journal de France Bleu Limousin   \n",
       "\n",
       "                                                    image  \\\n",
       "197880  http://is3.mzstatic.com/image/thumb/Music62/v4...   \n",
       "\n",
       "                                            description_x language  \\\n",
       "197880  Toute l'actualité du Limousin, et vue du Limousin   French   \n",
       "\n",
       "             categories                     website        author   itunes_id  \\\n",
       "197880  News & Politics  http://www.radiofrance.fr/  Radio France  1041703862   \n",
       "\n",
       "                   title_y                                              audio  \\\n",
       "197880  Les infos de 08h00  http://rf.proxycast.org/1374488813056827393/15...   \n",
       "\n",
       "        audio_length                                      description_y  \\\n",
       "197880           482  durée : 00:08:02 - Le journal de France Bleu L...   \n",
       "\n",
       "                      pub_date                              uuid  \n",
       "197880  2017-12-04 07:00:00+00  27233505e5cd433c949b9169ff395605  "
      ]
     },
     "execution_count": 12,
     "metadata": {},
     "output_type": "execute_result"
    }
   ],
   "source": [
    "Podcast.sample()"
   ]
  },
  {
   "cell_type": "code",
   "execution_count": 13,
   "metadata": {},
   "outputs": [],
   "source": [
    "#Rename some variables to be meaningful\n",
    "Podcast = Podcast.rename(columns={'title_x' :'podcast_title',\n",
    "                                  'description_x' : 'description_pod',\n",
    "                                   'title_y' : 'episode_title',\n",
    "                                    'description_y' : 'description_epi',\n",
    "                                      'uuid' : 'website_id'})"
   ]
  },
  {
   "cell_type": "code",
   "execution_count": 14,
   "metadata": {},
   "outputs": [
    {
     "name": "stdout",
     "output_type": "stream",
     "text": [
      "<class 'pandas.core.frame.DataFrame'>\n",
      "Int64Index: 873820 entries, 0 to 873819\n",
      "Data columns (total 15 columns):\n",
      " #   Column           Non-Null Count   Dtype \n",
      "---  ------           --------------   ----- \n",
      " 0   id               873820 non-null  object\n",
      " 1   podcast_title    873814 non-null  object\n",
      " 2   image            873820 non-null  object\n",
      " 3   description_pod  862268 non-null  object\n",
      " 4   language         873820 non-null  object\n",
      " 5   categories       873820 non-null  object\n",
      " 6   website          862930 non-null  object\n",
      " 7   author           856612 non-null  object\n",
      " 8   itunes_id        873820 non-null  int64 \n",
      " 9   episode_title    873618 non-null  object\n",
      " 10  audio            863045 non-null  object\n",
      " 11  audio_length     873820 non-null  int64 \n",
      " 12  description_epi  787292 non-null  object\n",
      " 13  pub_date         873820 non-null  object\n",
      " 14  website_id       873820 non-null  object\n",
      "dtypes: int64(2), object(13)\n",
      "memory usage: 106.7+ MB\n"
     ]
    }
   ],
   "source": [
    "Podcast.info()"
   ]
  },
  {
   "cell_type": "code",
   "execution_count": 15,
   "metadata": {},
   "outputs": [
    {
     "data": {
      "text/plain": [
       "0        2017-12-12 12:45:27+00:00\n",
       "1        2017-12-11 00:00:00+00:00\n",
       "2        2017-12-19 00:00:00+00:00\n",
       "3        2017-12-01 07:00:00+00:00\n",
       "4        2017-12-08 07:00:00+00:00\n",
       "                    ...           \n",
       "873815   2017-12-12 22:01:15+00:00\n",
       "873816   2017-12-12 04:11:12+00:00\n",
       "873817   2017-12-11 05:19:43+00:00\n",
       "873818   2017-12-03 22:06:50+00:00\n",
       "873819   2017-12-03 22:00:31+00:00\n",
       "Name: pub_date, Length: 873820, dtype: datetime64[ns, UTC]"
      ]
     },
     "execution_count": 15,
     "metadata": {},
     "output_type": "execute_result"
    }
   ],
   "source": [
    "#Change date type\n",
    "Podcast['pub_date']=pd.to_datetime(Podcast['pub_date'])\n",
    "Podcast['pub_date']"
   ]
  },
  {
   "cell_type": "code",
   "execution_count": 16,
   "metadata": {},
   "outputs": [
    {
     "data": {
      "text/html": [
       "<div>\n",
       "<style scoped>\n",
       "    .dataframe tbody tr th:only-of-type {\n",
       "        vertical-align: middle;\n",
       "    }\n",
       "\n",
       "    .dataframe tbody tr th {\n",
       "        vertical-align: top;\n",
       "    }\n",
       "\n",
       "    .dataframe thead th {\n",
       "        text-align: right;\n",
       "    }\n",
       "</style>\n",
       "<table border=\"1\" class=\"dataframe\">\n",
       "  <thead>\n",
       "    <tr style=\"text-align: right;\">\n",
       "      <th></th>\n",
       "      <th>itunes_id</th>\n",
       "      <th>audio_length</th>\n",
       "    </tr>\n",
       "  </thead>\n",
       "  <tbody>\n",
       "    <tr>\n",
       "      <th>count</th>\n",
       "      <td>8.738200e+05</td>\n",
       "      <td>8.738200e+05</td>\n",
       "    </tr>\n",
       "    <tr>\n",
       "      <th>mean</th>\n",
       "      <td>9.003002e+08</td>\n",
       "      <td>1.709753e+04</td>\n",
       "    </tr>\n",
       "    <tr>\n",
       "      <th>std</th>\n",
       "      <td>3.810184e+08</td>\n",
       "      <td>4.622710e+06</td>\n",
       "    </tr>\n",
       "    <tr>\n",
       "      <th>min</th>\n",
       "      <td>7.332927e+07</td>\n",
       "      <td>-6.245000e+03</td>\n",
       "    </tr>\n",
       "    <tr>\n",
       "      <th>25%</th>\n",
       "      <td>5.196339e+08</td>\n",
       "      <td>5.620000e+02</td>\n",
       "    </tr>\n",
       "    <tr>\n",
       "      <th>50%</th>\n",
       "      <td>1.054958e+09</td>\n",
       "      <td>1.800000e+03</td>\n",
       "    </tr>\n",
       "    <tr>\n",
       "      <th>75%</th>\n",
       "      <td>1.223007e+09</td>\n",
       "      <td>3.062000e+03</td>\n",
       "    </tr>\n",
       "    <tr>\n",
       "      <th>max</th>\n",
       "      <td>1.341143e+09</td>\n",
       "      <td>2.082864e+09</td>\n",
       "    </tr>\n",
       "  </tbody>\n",
       "</table>\n",
       "</div>"
      ],
      "text/plain": [
       "          itunes_id  audio_length\n",
       "count  8.738200e+05  8.738200e+05\n",
       "mean   9.003002e+08  1.709753e+04\n",
       "std    3.810184e+08  4.622710e+06\n",
       "min    7.332927e+07 -6.245000e+03\n",
       "25%    5.196339e+08  5.620000e+02\n",
       "50%    1.054958e+09  1.800000e+03\n",
       "75%    1.223007e+09  3.062000e+03\n",
       "max    1.341143e+09  2.082864e+09"
      ]
     },
     "execution_count": 16,
     "metadata": {},
     "output_type": "execute_result"
    }
   ],
   "source": [
    "Podcast.describe()"
   ]
  },
  {
   "cell_type": "code",
   "execution_count": 17,
   "metadata": {},
   "outputs": [
    {
     "data": {
      "text/plain": [
       "count    8.738200e+05\n",
       "mean     1.709753e+04\n",
       "std      4.622710e+06\n",
       "min     -6.245000e+03\n",
       "25%      5.620000e+02\n",
       "50%      1.800000e+03\n",
       "75%      3.062000e+03\n",
       "max      2.082864e+09\n",
       "Name: audio_length, dtype: float64"
      ]
     },
     "execution_count": 17,
     "metadata": {},
     "output_type": "execute_result"
    }
   ],
   "source": [
    "Podcast['audio_length'].describe()"
   ]
  },
  {
   "cell_type": "markdown",
   "metadata": {},
   "source": [
    ">#### Convert audio length from seconds to minutes by dividxing them by 60."
   ]
  },
  {
   "cell_type": "code",
   "execution_count": 18,
   "metadata": {},
   "outputs": [],
   "source": [
    "Podcast['audio_length'] = Podcast['audio_length'] // 60"
   ]
  },
  {
   "cell_type": "code",
   "execution_count": 19,
   "metadata": {},
   "outputs": [
    {
     "data": {
      "text/plain": [
       "0         21\n",
       "1         66\n",
       "2         31\n",
       "3         74\n",
       "4         55\n",
       "          ..\n",
       "873815    18\n",
       "873816     5\n",
       "873817     6\n",
       "873818     5\n",
       "873819     3\n",
       "Name: audio_length, Length: 873820, dtype: int64"
      ]
     },
     "execution_count": 19,
     "metadata": {},
     "output_type": "execute_result"
    }
   ],
   "source": [
    "Podcast['audio_length']"
   ]
  },
  {
   "cell_type": "markdown",
   "metadata": {},
   "source": [
    ">#### Some values need to be dropped since it does not make sense where the length of the audio is less than 1."
   ]
  },
  {
   "cell_type": "code",
   "execution_count": 20,
   "metadata": {},
   "outputs": [
    {
     "data": {
      "text/plain": [
       "Int64Index([   197,    203,    211,    269,    270,    271,    272,    273,\n",
       "               274,    275,\n",
       "            ...\n",
       "            873495, 873622, 873623, 873628, 873669, 873671, 873672, 873673,\n",
       "            873688, 873812],\n",
       "           dtype='int64', length=40318)"
      ]
     },
     "execution_count": 20,
     "metadata": {},
     "output_type": "execute_result"
    }
   ],
   "source": [
    "Check_length = Podcast[Podcast['audio_length']<= 0].index\n",
    "Check_length"
   ]
  },
  {
   "cell_type": "code",
   "execution_count": 21,
   "metadata": {},
   "outputs": [
    {
     "data": {
      "text/plain": [
       "count    8.738200e+05\n",
       "mean     2.845596e+02\n",
       "std      7.704516e+04\n",
       "min     -1.050000e+02\n",
       "25%      9.000000e+00\n",
       "50%      3.000000e+01\n",
       "75%      5.100000e+01\n",
       "max      3.471440e+07\n",
       "Name: audio_length, dtype: float64"
      ]
     },
     "execution_count": 21,
     "metadata": {},
     "output_type": "execute_result"
    }
   ],
   "source": [
    "Podcast['audio_length'].describe()\n"
   ]
  },
  {
   "cell_type": "code",
   "execution_count": 22,
   "metadata": {},
   "outputs": [
    {
     "data": {
      "text/plain": [
       "count    8.335020e+05\n",
       "mean     2.983244e+02\n",
       "std      7.888654e+04\n",
       "min      1.000000e+00\n",
       "25%      1.100000e+01\n",
       "50%      3.100000e+01\n",
       "75%      5.200000e+01\n",
       "max      3.471440e+07\n",
       "Name: audio_length, dtype: float64"
      ]
     },
     "execution_count": 22,
     "metadata": {},
     "output_type": "execute_result"
    }
   ],
   "source": [
    "Podcast.drop(Check_length , inplace=True)\n",
    "Podcast['audio_length'].describe()"
   ]
  },
  {
   "cell_type": "markdown",
   "metadata": {},
   "source": [
    ">##### Also well drop any podcast that have 10 min or less."
   ]
  },
  {
   "cell_type": "code",
   "execution_count": 23,
   "metadata": {},
   "outputs": [
    {
     "data": {
      "text/plain": [
       "Int64Index([     8,      9,     10,     94,     95,     96,     97,     98,\n",
       "                99,    100,\n",
       "            ...\n",
       "            873794, 873795, 873796, 873797, 873798, 873799, 873816, 873817,\n",
       "            873818, 873819],\n",
       "           dtype='int64', length=204419)"
      ]
     },
     "execution_count": 23,
     "metadata": {},
     "output_type": "execute_result"
    }
   ],
   "source": [
    "check_audio = Podcast[Podcast['audio_length'] <= 10].index\n",
    "check_audio"
   ]
  },
  {
   "cell_type": "code",
   "execution_count": 24,
   "metadata": {},
   "outputs": [
    {
     "data": {
      "text/plain": [
       "60        18762\n",
       "30        15226\n",
       "28        14033\n",
       "29        13455\n",
       "39        11956\n",
       "          ...  \n",
       "396776        1\n",
       "2344          1\n",
       "2328          1\n",
       "792           1\n",
       "513           1\n",
       "Name: audio_length, Length: 500, dtype: int64"
      ]
     },
     "execution_count": 24,
     "metadata": {},
     "output_type": "execute_result"
    }
   ],
   "source": [
    "Podcast.drop(check_audio , inplace=True)\n",
    "Podcast['audio_length'].value_counts()"
   ]
  },
  {
   "cell_type": "markdown",
   "metadata": {},
   "source": [
    ">#### Huge number of the podcasts in the English will affect the analysis, I will sperate the dataset based on the languages English_Podcasts will contain all the podcast in the English and Podcast data frame will have the reset."
   ]
  },
  {
   "cell_type": "code",
   "execution_count": 25,
   "metadata": {},
   "outputs": [
    {
     "data": {
      "text/html": [
       "<div>\n",
       "<style scoped>\n",
       "    .dataframe tbody tr th:only-of-type {\n",
       "        vertical-align: middle;\n",
       "    }\n",
       "\n",
       "    .dataframe tbody tr th {\n",
       "        vertical-align: top;\n",
       "    }\n",
       "\n",
       "    .dataframe thead th {\n",
       "        text-align: right;\n",
       "    }\n",
       "</style>\n",
       "<table border=\"1\" class=\"dataframe\">\n",
       "  <thead>\n",
       "    <tr style=\"text-align: right;\">\n",
       "      <th></th>\n",
       "      <th>id</th>\n",
       "      <th>podcast_title</th>\n",
       "      <th>image</th>\n",
       "      <th>description_pod</th>\n",
       "      <th>language</th>\n",
       "      <th>categories</th>\n",
       "      <th>website</th>\n",
       "      <th>author</th>\n",
       "      <th>itunes_id</th>\n",
       "      <th>episode_title</th>\n",
       "      <th>audio</th>\n",
       "      <th>audio_length</th>\n",
       "      <th>description_epi</th>\n",
       "      <th>pub_date</th>\n",
       "      <th>website_id</th>\n",
       "    </tr>\n",
       "  </thead>\n",
       "  <tbody>\n",
       "    <tr>\n",
       "      <th>372955</th>\n",
       "      <td>8d1b4bb7c8a4480aa1b4070e362da7b6</td>\n",
       "      <td>Filmstudy with Ken McKusick - Baltimore Ravens...</td>\n",
       "      <td>http://is3.mzstatic.com/image/thumb/Music118/v...</td>\n",
       "      <td>Ken McKusick from Russell Street Report and Jo...</td>\n",
       "      <td>English</td>\n",
       "      <td>Podcasting | Technology</td>\n",
       "      <td>https://audioboom.com/channels/4924154</td>\n",
       "      <td>Audioboom</td>\n",
       "      <td>1273569463</td>\n",
       "      <td>35: FilmStudy 2017 Episode 35 : A Win Is A Win</td>\n",
       "      <td>https://audioboom.com/posts/6570719.mp3?source...</td>\n",
       "      <td>58</td>\n",
       "      <td>NaN</td>\n",
       "      <td>2017-12-28 03:29:10+00:00</td>\n",
       "      <td>23af5b234e674414a02932a69c0f5b47</td>\n",
       "    </tr>\n",
       "  </tbody>\n",
       "</table>\n",
       "</div>"
      ],
      "text/plain": [
       "                                      id  \\\n",
       "372955  8d1b4bb7c8a4480aa1b4070e362da7b6   \n",
       "\n",
       "                                            podcast_title  \\\n",
       "372955  Filmstudy with Ken McKusick - Baltimore Ravens...   \n",
       "\n",
       "                                                    image  \\\n",
       "372955  http://is3.mzstatic.com/image/thumb/Music118/v...   \n",
       "\n",
       "                                          description_pod language  \\\n",
       "372955  Ken McKusick from Russell Street Report and Jo...  English   \n",
       "\n",
       "                     categories                                 website  \\\n",
       "372955  Podcasting | Technology  https://audioboom.com/channels/4924154   \n",
       "\n",
       "           author   itunes_id                                   episode_title  \\\n",
       "372955  Audioboom  1273569463  35: FilmStudy 2017 Episode 35 : A Win Is A Win   \n",
       "\n",
       "                                                    audio  audio_length  \\\n",
       "372955  https://audioboom.com/posts/6570719.mp3?source...            58   \n",
       "\n",
       "       description_epi                  pub_date  \\\n",
       "372955             NaN 2017-12-28 03:29:10+00:00   \n",
       "\n",
       "                              website_id  \n",
       "372955  23af5b234e674414a02932a69c0f5b47  "
      ]
     },
     "execution_count": 25,
     "metadata": {},
     "output_type": "execute_result"
    }
   ],
   "source": [
    "##Save new dataframe for english podcasts\n",
    "English_Podcasts = Podcast[Podcast['language']== 'English']\n",
    "English_Podcasts.sample()"
   ]
  },
  {
   "cell_type": "code",
   "execution_count": 26,
   "metadata": {},
   "outputs": [],
   "source": [
    "English_Podcasts.to_csv('English_Podcasts.csv', index=False)"
   ]
  },
  {
   "cell_type": "code",
   "execution_count": 27,
   "metadata": {},
   "outputs": [],
   "source": [
    "#Drop english podcasts\n",
    "Check_English = Podcast[Podcast['language']== 'English'].index"
   ]
  },
  {
   "cell_type": "code",
   "execution_count": 28,
   "metadata": {},
   "outputs": [],
   "source": [
    "Podcast.drop(Check_English , inplace=True)"
   ]
  },
  {
   "cell_type": "markdown",
   "metadata": {},
   "source": [
    ">#### Drop any language have less than 100 podcasts since it will not make a big change while all my analysis in the top of the podcats."
   ]
  },
  {
   "cell_type": "code",
   "execution_count": 29,
   "metadata": {},
   "outputs": [],
   "source": [
    "Slovak = Podcast[Podcast['language']== 'Slovak'].index\n",
    "Bulgarian = Podcast[Podcast['language']== 'Bulgarian'].index\n",
    "Icelandic = Podcast[Podcast['language']== 'Icelandic'].index\n",
    "Croatian = Podcast[Podcast['language']== 'Croatian'].index\n",
    "Afrikaans = Podcast[Podcast['language']== 'Afrikaans'].index\n",
    "Abkhazian = Podcast[Podcast['language']== 'Abkhazian'].index\n",
    "Afar = Podcast[Podcast['language']== 'Afar'].index\n",
    "Macedonian = Podcast[Podcast['language']== 'Macedonian'].index\n",
    "Belarusian = Podcast[Podcast['language']== 'Belarusian'].index\n",
    "Irish = Podcast[Podcast['language']== 'Irish'].index\n",
    "Norwegian = Podcast[Podcast['language']== 'Norwegian Bokmål'].index\n",
    "Faeroese = Podcast[Podcast['language']== 'Faeroese'].index"
   ]
  },
  {
   "cell_type": "code",
   "execution_count": 30,
   "metadata": {},
   "outputs": [],
   "source": [
    "Podcast.drop(Slovak , inplace=True)\n",
    "Podcast.drop(Bulgarian , inplace=True)\n",
    "Podcast.drop(Icelandic , inplace=True)\n",
    "Podcast.drop(Croatian , inplace=True)\n",
    "Podcast.drop(Afrikaans , inplace=True)\n",
    "Podcast.drop(Abkhazian , inplace=True)\n",
    "Podcast.drop(Afar , inplace=True)\n",
    "Podcast.drop(Macedonian , inplace=True)\n",
    "Podcast.drop(Belarusian , inplace=True)\n",
    "Podcast.drop(Irish , inplace=True)\n",
    "Podcast.drop(Norwegian , inplace=True)\n",
    "Podcast.drop(Faeroese , inplace=True)"
   ]
  },
  {
   "cell_type": "code",
   "execution_count": 31,
   "metadata": {},
   "outputs": [
    {
     "data": {
      "text/plain": [
       "Spanish       24929\n",
       "French        20792\n",
       "German        14206\n",
       "Italian        8417\n",
       "Chinese        7316\n",
       "Portuguese     6837\n",
       "Russian        5977\n",
       "Swedish        4946\n",
       "Japanese       3988\n",
       "Korean         3149\n",
       "Dutch          2471\n",
       "Catalan        2050\n",
       "Czech          1489\n",
       "Norwegian      1441\n",
       "Danish         1184\n",
       "Turkish         951\n",
       "Estonian        826\n",
       "Polish          726\n",
       "Finnish         538\n",
       "Ukranian        486\n",
       "Hungarian       379\n",
       "Slovenian       352\n",
       "Galician        333\n",
       "Swahili         303\n",
       "Indonesian      127\n",
       "Albanian        118\n",
       "Greek           106\n",
       "Basque          100\n",
       "Romanian         73\n",
       "Serbian          63\n",
       "Name: language, dtype: int64"
      ]
     },
     "execution_count": 31,
     "metadata": {},
     "output_type": "execute_result"
    }
   ],
   "source": [
    "Podcast['language'].value_counts()"
   ]
  },
  {
   "cell_type": "markdown",
   "metadata": {},
   "source": [
    ">#### Drop unneeded attributes and null values."
   ]
  },
  {
   "cell_type": "code",
   "execution_count": 32,
   "metadata": {},
   "outputs": [],
   "source": [
    "Podcast.drop(['image','website_id','itunes_id','pub_date'], axis=1, inplace=True)"
   ]
  },
  {
   "cell_type": "code",
   "execution_count": 33,
   "metadata": {},
   "outputs": [],
   "source": [
    "Podcast = Podcast.dropna()"
   ]
  },
  {
   "cell_type": "code",
   "execution_count": 34,
   "metadata": {},
   "outputs": [
    {
     "name": "stdout",
     "output_type": "stream",
     "text": [
      "<class 'pandas.core.frame.DataFrame'>\n",
      "Int64Index: 100391 entries, 21899 to 873815\n",
      "Data columns (total 11 columns):\n",
      " #   Column           Non-Null Count   Dtype \n",
      "---  ------           --------------   ----- \n",
      " 0   id               100391 non-null  object\n",
      " 1   podcast_title    100391 non-null  object\n",
      " 2   description_pod  100391 non-null  object\n",
      " 3   language         100391 non-null  object\n",
      " 4   categories       100391 non-null  object\n",
      " 5   website          100391 non-null  object\n",
      " 6   author           100391 non-null  object\n",
      " 7   episode_title    100391 non-null  object\n",
      " 8   audio            100391 non-null  object\n",
      " 9   audio_length     100391 non-null  int64 \n",
      " 10  description_epi  100391 non-null  object\n",
      "dtypes: int64(1), object(10)\n",
      "memory usage: 9.2+ MB\n"
     ]
    }
   ],
   "source": [
    "Podcast.info()"
   ]
  },
  {
   "cell_type": "markdown",
   "metadata": {},
   "source": [
    "### Question to be asked\n",
    "* Which the most categories that have the longest audio length?\n",
    "* Which categories are the most trending in English_Podcasts?\n",
    "* What is the language that have almost all categories?\n",
    "* What is the average minute's length of the podcasts?\n",
    "* What are the most listening language?\n"
   ]
  },
  {
   "cell_type": "markdown",
   "metadata": {},
   "source": [
    "### Data Visualization\n",
    "### Univariate Exploration"
   ]
  },
  {
   "cell_type": "code",
   "execution_count": 35,
   "metadata": {
    "scrolled": true
   },
   "outputs": [
    {
     "data": {
      "image/png": "[encoded data removed]",
      "text/plain": [
       "<Figure size 432x288 with 1 Axes>"
      ]
     },
     "metadata": {},
     "output_type": "display_data"
    }
   ],
   "source": [
    "Category = English_Podcasts['categories'].value_counts()[0:3]\n",
    "plt.pie(Category, labels = Category.index, startangle = 90, autopct='%1.1f%%',counterclock = False);"
   ]
  },
  {
   "cell_type": "markdown",
   "metadata": {},
   "source": [
    "### Of the features you investigated, were there any unusual distributions? Did you perform any operations on the data to tidy, adjust, or change the form of the data? If so, why did you do this?\n",
    "\n",
    "> I take the fist top 3 categories , where there are alot of categories in the data set.<br>\n",
    "And we can see that (Religion & Spirituality | Christianity)"
   ]
  },
  {
   "cell_type": "markdown",
   "metadata": {},
   "source": [
    "### Bivariate Exploration"
   ]
  },
  {
   "cell_type": "code",
   "execution_count": 36,
   "metadata": {},
   "outputs": [
    {
     "data": {
      "image/png": "[encoded data removed]",
      "text/plain": [
       "<Figure size 432x288 with 1 Axes>"
      ]
     },
     "metadata": {
      "needs_background": "light"
     },
     "output_type": "display_data"
    }
   ],
   "source": [
    "Ca = Podcast['categories'].value_counts()[0:5]\n",
    "Le = Podcast['audio_length'].value_counts()[0:5]\n",
    "sb.boxplot(data = Podcast, y = Ca.index, x = Le.index);"
   ]
  },
  {
   "cell_type": "code",
   "execution_count": 37,
   "metadata": {},
   "outputs": [
    {
     "data": {
      "image/png": "[encoded data removed]",
      "text/plain": [
       "<Figure size 432x288 with 1 Axes>"
      ]
     },
     "metadata": {
      "needs_background": "light"
     },
     "output_type": "display_data"
    }
   ],
   "source": [
    "lan = Podcast['audio_length'].value_counts()[0:5]\n",
    "cat = Podcast['categories'].value_counts()[0:5]\n",
    "sb.countplot(data = Podcast, x = lan.index , hue = cat.index );"
   ]
  },
  {
   "cell_type": "markdown",
   "metadata": {},
   "source": [
    "> The correlation between the categories and audio_length in the top five of the podcasts"
   ]
  },
  {
   "cell_type": "markdown",
   "metadata": {},
   "source": [
    "### Multivariate Exploration"
   ]
  },
  {
   "cell_type": "code",
   "execution_count": 38,
   "metadata": {},
   "outputs": [
    {
     "data": {
      "image/png": "[encoded data removed]",
      "text/plain": [
       "<Figure size 1080x1296 with 30 Axes>"
      ]
     },
     "metadata": {
      "needs_background": "light"
     },
     "output_type": "display_data"
    }
   ],
   "source": [
    "g = sb.FacetGrid(data = Podcast, col = 'language', height = 3, col_wrap = 5)\n",
    "g.map(plt.scatter, 'categories', 'audio_length', alpha = 1/3);"
   ]
  },
  {
   "cell_type": "markdown",
   "metadata": {},
   "source": [
    "> We can get from the visualization that the German podcasts have variety in the categories rather than any languages."
   ]
  }
 ],
 "metadata": {
  "kernelspec": {
   "display_name": "Python 3",
   "language": "python",
   "name": "python3"
  },
  "language_info": {
   "codemirror_mode": {
    "name": "ipython",
    "version": 3
   },
   "file_extension": ".py",
   "mimetype": "text/x-python",
   "name": "python",
   "nbconvert_exporter": "python",
   "pygments_lexer": "ipython3",
   "version": "3.7.6"
  }
 },
 "nbformat": 4,
 "nbformat_minor": 4
}
